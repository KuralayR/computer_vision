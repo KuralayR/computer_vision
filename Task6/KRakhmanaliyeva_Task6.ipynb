{
 "cells": [
  {
   "cell_type": "markdown",
   "metadata": {},
   "source": [
    "Task1. "
   ]
  },
  {
   "cell_type": "code",
   "execution_count": 2,
   "metadata": {},
   "outputs": [
    {
     "data": {
      "text/plain": [
       "'100000'"
      ]
     },
     "execution_count": 2,
     "metadata": {},
     "output_type": "execute_result"
    }
   ],
   "source": [
    "bin(32)[2:]"
   ]
  },
  {
   "cell_type": "code",
   "execution_count": 59,
   "metadata": {},
   "outputs": [],
   "source": [
    "def solution(N):\n",
    "    binary = (\"{0:b}\".format(N)).strip(\"0\")\n",
    "    binary_gap = 0\n",
    "    gap = 0\n",
    "    for i in binary:\n",
    "        if i == \"0\":\n",
    "            gap += 1\n",
    "        else:\n",
    "            gap = 0\n",
    "        if gap > binary_gap:\n",
    "            binary_gap = gap\n",
    "    return binary_gap"
   ]
  },
  {
   "cell_type": "code",
   "execution_count": 60,
   "metadata": {},
   "outputs": [
    {
     "data": {
      "text/plain": [
       "5"
      ]
     },
     "execution_count": 60,
     "metadata": {},
     "output_type": "execute_result"
    }
   ],
   "source": [
    "solution(1041)"
   ]
  },
  {
   "cell_type": "markdown",
   "metadata": {},
   "source": [
    "Task3."
   ]
  },
  {
   "cell_type": "code",
   "execution_count": 73,
   "metadata": {},
   "outputs": [],
   "source": [
    "def solution2(A):\n",
    "    a = 0\n",
    "    for i in A:\n",
    "        a ^= i\n",
    "    return a"
   ]
  },
  {
   "cell_type": "code",
   "execution_count": 75,
   "metadata": {},
   "outputs": [
    {
     "data": {
      "text/plain": [
       "7"
      ]
     },
     "execution_count": 75,
     "metadata": {},
     "output_type": "execute_result"
    }
   ],
   "source": [
    "A = [9,3,9,3,9,7,9]\n",
    "solution2(A)"
   ]
  },
  {
   "cell_type": "markdown",
   "metadata": {},
   "source": [
    "Task4."
   ]
  },
  {
   "cell_type": "code",
   "execution_count": 92,
   "metadata": {},
   "outputs": [],
   "source": [
    "def solution4(A, B):\n",
    "    number = len(A)\n",
    "    dead = 0\n",
    "    stack = []\n",
    "     \n",
    "    for i in range(number):\n",
    "        if B[i] == 1:\n",
    "            stack.append(A[i])\n",
    "        else:\n",
    "            while len(stack) > 0:\n",
    "                dead += 1\n",
    "                if stack[-1] > A[i]:\n",
    "                    break\n",
    "                else:\n",
    "                    stack.pop()\n",
    "     \n",
    "    return len(A) - dead"
   ]
  },
  {
   "cell_type": "code",
   "execution_count": 93,
   "metadata": {},
   "outputs": [
    {
     "data": {
      "text/plain": [
       "2"
      ]
     },
     "execution_count": 93,
     "metadata": {},
     "output_type": "execute_result"
    }
   ],
   "source": [
    "A = [4,3,2,1,5]\n",
    "B = [0,1,0,0,0]\n",
    "solution4(A,B)"
   ]
  },
  {
   "cell_type": "code",
   "execution_count": null,
   "metadata": {},
   "outputs": [],
   "source": []
  }
 ],
 "metadata": {
  "kernelspec": {
   "display_name": "Python 3",
   "language": "python",
   "name": "python3"
  },
  "language_info": {
   "codemirror_mode": {
    "name": "ipython",
    "version": 3
   },
   "file_extension": ".py",
   "mimetype": "text/x-python",
   "name": "python",
   "nbconvert_exporter": "python",
   "pygments_lexer": "ipython3",
   "version": "3.8.5"
  }
 },
 "nbformat": 4,
 "nbformat_minor": 4
}
